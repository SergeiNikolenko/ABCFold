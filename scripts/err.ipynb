{
 "cells": [
  {
   "cell_type": "code",
   "execution_count": 11,
   "metadata": {},
   "outputs": [
    {
     "name": "stdout",
     "output_type": "stream",
     "text": [
      "\n",
      "Statistics for /mnt/ligandpro/data/docking_hack/nikolenko_calc/abc_calc/astex_calc/outputs:\n",
      "Successful runs:\n",
      "af3: 0\n",
      "boltz: 65\n",
      "chai: 73\n",
      "Failed runs:\n",
      "af3: 2\n",
      "boltz: 11\n",
      "chai: 3\n",
      "\n",
      "Statistics for /mnt/ligandpro/data/docking_hack/nikolenko_calc/abc_calc/posebusters_calc/outputs:\n",
      "Successful runs:\n",
      "af3: 0\n",
      "boltz: 96\n",
      "chai: 120\n",
      "Failed runs:\n",
      "af3: 4\n",
      "boltz: 33\n",
      "chai: 8\n",
      "\n",
      "Statistics for /mnt/ligandpro/data/docking_hack/nikolenko_calc/abc_calc/timesplit_test_calc/outputs:\n",
      "Successful runs:\n",
      "af3: 0\n",
      "boltz: 165\n",
      "chai: 205\n",
      "Failed runs:\n",
      "af3: 5\n",
      "boltz: 43\n",
      "chai: 2\n"
     ]
    }
   ],
   "source": [
    "from pathlib import Path\n",
    "\n",
    "roots = [\n",
    "    '/mnt/ligandpro/data/docking_hack/nikolenko_calc/abc_calc/astex_calc/outputs',\n",
    "    '/mnt/ligandpro/data/docking_hack/nikolenko_calc/abc_calc/posebusters_calc/outputs',\n",
    "    '/mnt/ligandpro/data/docking_hack/nikolenko_calc/abc_calc/timesplit_test_calc/outputs'\n",
    "]\n",
    "\n",
    "methods = ['af3', 'boltz', 'chai']\n",
    "\n",
    "for root in roots:\n",
    "    success_counts = {m: 0 for m in methods}\n",
    "    failure_counts = {m: 0 for m in methods}\n",
    "    \n",
    "    print(f\"\\nStatistics for {root}:\")\n",
    "    \n",
    "    for entry in Path(root).iterdir():\n",
    "        if not entry.is_dir():\n",
    "            continue\n",
    "        items = [f.name for f in entry.iterdir()]\n",
    "        for m in methods:\n",
    "            if f\"{m}_error.log\" in items:\n",
    "                failure_counts[m] += 1\n",
    "            elif any(name.startswith(m) for name in items):\n",
    "                success_counts[m] += 1\n",
    "\n",
    "    print(\"Successful runs:\")\n",
    "    for m, c in success_counts.items():\n",
    "        print(f\"{m}: {c}\")\n",
    "\n",
    "    print(\"Failed runs:\")\n",
    "    for m, c in failure_counts.items():\n",
    "        print(f\"{m}: {c}\")\n"
   ]
  }
 ],
 "metadata": {
  "kernelspec": {
   "display_name": "abcfold",
   "language": "python",
   "name": "python3"
  },
  "language_info": {
   "codemirror_mode": {
    "name": "ipython",
    "version": 3
   },
   "file_extension": ".py",
   "mimetype": "text/x-python",
   "name": "python",
   "nbconvert_exporter": "python",
   "pygments_lexer": "ipython3",
   "version": "3.11.12"
  }
 },
 "nbformat": 4,
 "nbformat_minor": 2
}
